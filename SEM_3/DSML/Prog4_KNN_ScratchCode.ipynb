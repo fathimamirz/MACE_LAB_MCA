{
  "nbformat": 4,
  "nbformat_minor": 0,
  "metadata": {
    "colab": {
      "provenance": []
    },
    "kernelspec": {
      "name": "python3",
      "display_name": "Python 3"
    },
    "language_info": {
      "name": "python"
    }
  },
  "cells": [
    {
      "cell_type": "code",
      "execution_count": null,
      "metadata": {
        "id": "hXjCxgHu63_X"
      },
      "outputs": [],
      "source": [
        "import csv\n",
        "import math"
      ]
    },
    {
      "cell_type": "code",
      "source": [
        "def loaddat(iris):\n",
        "  datas = []\n",
        "  with open(iris, 'r') as file:\n",
        "    csv_reader = csv.reader(file)\n",
        "    next(csv_reader)\n",
        "    for row in csv_reader:\n",
        "      features = [float(row[0]), float(row[1]), float(row[2]), float(row[3])]\n",
        "      label = row[4]\n",
        "      datas.append((features, label))\n",
        "  return datas"
      ],
      "metadata": {
        "id": "feVoaynJfhFz"
      },
      "execution_count": null,
      "outputs": []
    },
    {
      "cell_type": "markdown",
      "source": [
        "Method for lolad the dataset"
      ],
      "metadata": {
        "id": "L8qOuNxwgde6"
      }
    },
    {
      "cell_type": "code",
      "source": [
        "def knnmeth(traindata,points,k):\n",
        "  dist=[]\n",
        "  for datas in traindata:\n",
        "    dista=eucl_dist(datas,points)\n",
        "    dist.append((dista, datas[1]))\n",
        "  dist.sort()\n",
        "  classvotes = {}\n",
        "  max_votes = 0\n",
        "  for i in range(k):\n",
        "      label = dist[i][1]\n",
        "      classvotes[label] = classvotes.get(label, 0) + 1\n",
        "  predictclass = None\n",
        "  for label, votes in classvotes.items():\n",
        "      if votes > max_votes:\n",
        "          max_votes = votes\n",
        "          predictedclass = label\n",
        "  return predictedclass"
      ],
      "metadata": {
        "id": "fFQeZckUfl3S"
      },
      "execution_count": null,
      "outputs": []
    },
    {
      "cell_type": "markdown",
      "source": [
        "This method execute the knn algorithm.in this method it call another method called eucl_dist to find the euclidian distance."
      ],
      "metadata": {
        "id": "3mXhDYAPgiZS"
      }
    },
    {
      "cell_type": "code",
      "source": [
        "def eucl_dist(da, po):\n",
        "  sumsq = 0.0\n",
        "  dc=da[0]\n",
        "  for i in range(4):\n",
        "      sumsq += (dc[i] - po[i]) ** 2\n",
        "  return math.sqrt(sumsq)\n"
      ],
      "metadata": {
        "id": "-vsGJIjFfrRj"
      },
      "execution_count": null,
      "outputs": []
    },
    {
      "cell_type": "markdown",
      "source": [
        "This method is for finding euclidean distance."
      ],
      "metadata": {
        "id": "1ZeGBRaZg4kZ"
      }
    },
    {
      "cell_type": "code",
      "source": [
        "dataset = loaddat('/content/iris.csv')\n",
        "datapoints=[6.4,3.2,4.5,1.5]\n",
        "k=3\n",
        "prediction = knnmeth(dataset,datapoints,k)\n",
        "print(f\"the predicted class is:{prediction}\")"
      ],
      "metadata": {
        "id": "Ruwp67Q686nH",
        "colab": {
          "base_uri": "https://localhost:8080/"
        },
        "outputId": "97f210c3-bed5-44e3-c7a5-8bd6a04bf491"
      },
      "execution_count": null,
      "outputs": [
        {
          "output_type": "stream",
          "name": "stdout",
          "text": [
            "the predicted class is:Versicolor\n"
          ]
        }
      ]
    }
  ]
}