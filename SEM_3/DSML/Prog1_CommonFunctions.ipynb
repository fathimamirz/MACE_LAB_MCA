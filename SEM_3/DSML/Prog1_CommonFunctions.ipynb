{
  "nbformat": 4,
  "nbformat_minor": 0,
  "metadata": {
    "colab": {
      "provenance": []
    },
    "kernelspec": {
      "name": "python3",
      "display_name": "Python 3"
    },
    "language_info": {
      "name": "python"
    }
  },
  "cells": [
    {
      "cell_type": "code",
      "execution_count": null,
      "metadata": {
        "id": "8dxgzaCLKoeY"
      },
      "outputs": [],
      "source": [
        "import pandas as pd\n",
        "import numpy as np"
      ]
    },
    {
      "cell_type": "code",
      "source": [
        "data={'A': [15,13,14],\n",
        "      'B': [67,89,48]}"
      ],
      "metadata": {
        "id": "NAmZNtiYMRTt"
      },
      "execution_count": null,
      "outputs": []
    },
    {
      "cell_type": "code",
      "source": [
        "df=pd.DataFrame(data)\n",
        "print(df)"
      ],
      "metadata": {
        "colab": {
          "base_uri": "https://localhost:8080/"
        },
        "id": "uIHv7mGGM6wE",
        "outputId": "9734f57e-b006-430e-8a82-72fefc5ee008"
      },
      "execution_count": null,
      "outputs": [
        {
          "output_type": "stream",
          "name": "stdout",
          "text": [
            "    A   B\n",
            "0  15  67\n",
            "1  13  89\n",
            "2  14  48\n"
          ]
        }
      ]
    },
    {
      "cell_type": "code",
      "source": [
        "print(df.head(2))"
      ],
      "metadata": {
        "colab": {
          "base_uri": "https://localhost:8080/"
        },
        "id": "jZIFIPi0NwxT",
        "outputId": "c627c35e-cda4-40e1-d14c-b33a20efaad4"
      },
      "execution_count": null,
      "outputs": [
        {
          "output_type": "stream",
          "name": "stdout",
          "text": [
            "    A   B\n",
            "0  15  67\n",
            "1  13  89\n"
          ]
        }
      ]
    },
    {
      "cell_type": "code",
      "source": [
        "print(df.tail(2))"
      ],
      "metadata": {
        "colab": {
          "base_uri": "https://localhost:8080/"
        },
        "id": "uGGfT4srN8C6",
        "outputId": "6a605d3e-37ab-426e-8624-f36bc3296e55"
      },
      "execution_count": null,
      "outputs": [
        {
          "output_type": "stream",
          "name": "stdout",
          "text": [
            "    A   B\n",
            "1  13  89\n",
            "2  14  48\n"
          ]
        }
      ]
    },
    {
      "cell_type": "code",
      "source": [
        "dat1={'AB':[11,12,13,14,15],\n",
        "      'CD':[405,None,786,None,593]}\n",
        "xy=pd.DataFrame(dat1)\n",
        "cnt=xy.count()\n",
        "print(cnt)"
      ],
      "metadata": {
        "colab": {
          "base_uri": "https://localhost:8080/"
        },
        "id": "7SpE3NqbZpkZ",
        "outputId": "819c7367-4bbc-4160-b5c5-98869551015d"
      },
      "execution_count": null,
      "outputs": [
        {
          "output_type": "stream",
          "name": "stdout",
          "text": [
            "AB    5\n",
            "CD    3\n",
            "dtype: int64\n"
          ]
        }
      ]
    },
    {
      "cell_type": "code",
      "source": [
        "c_sum=df.sum()\n",
        "print(c_sum)"
      ],
      "metadata": {
        "colab": {
          "base_uri": "https://localhost:8080/"
        },
        "id": "z6olXUJ3OD6S",
        "outputId": "1b099f5a-f1f2-4fd5-cfe8-8067a1154b83"
      },
      "execution_count": null,
      "outputs": [
        {
          "output_type": "stream",
          "name": "stdout",
          "text": [
            "A     42\n",
            "B    204\n",
            "dtype: int64\n"
          ]
        }
      ]
    },
    {
      "cell_type": "code",
      "source": [
        "print(df.mean())"
      ],
      "metadata": {
        "colab": {
          "base_uri": "https://localhost:8080/"
        },
        "id": "dBJi-jn3OhkK",
        "outputId": "4c7fd491-76a1-484e-b4fd-98d5aa5e05d2"
      },
      "execution_count": null,
      "outputs": [
        {
          "output_type": "stream",
          "name": "stdout",
          "text": [
            "A    14.0\n",
            "B    68.0\n",
            "dtype: float64\n"
          ]
        }
      ]
    },
    {
      "cell_type": "code",
      "source": [
        "print(df.median())"
      ],
      "metadata": {
        "colab": {
          "base_uri": "https://localhost:8080/"
        },
        "id": "76xxyVk7PexI",
        "outputId": "4f0fb74b-93ed-4c9b-e401-2eca495ca72f"
      },
      "execution_count": null,
      "outputs": [
        {
          "output_type": "stream",
          "name": "stdout",
          "text": [
            "A    14.0\n",
            "B    67.0\n",
            "dtype: float64\n"
          ]
        }
      ]
    },
    {
      "cell_type": "code",
      "source": [
        "D3={'A':[19,46,38,19,39,68]}\n",
        "sd=pd.DataFrame(D3)\n",
        "print(sd.mode())"
      ],
      "metadata": {
        "colab": {
          "base_uri": "https://localhost:8080/"
        },
        "id": "_qW3QEUpPjy2",
        "outputId": "b6669460-8421-4aba-90d4-c35a80f398b2"
      },
      "execution_count": null,
      "outputs": [
        {
          "output_type": "stream",
          "name": "stdout",
          "text": [
            "    A\n",
            "0  19\n"
          ]
        }
      ]
    },
    {
      "cell_type": "code",
      "source": [
        "print(df.std())"
      ],
      "metadata": {
        "colab": {
          "base_uri": "https://localhost:8080/"
        },
        "id": "H-tNycbfengI",
        "outputId": "bd9d193d-356b-48d8-a604-e60547fca153"
      },
      "execution_count": null,
      "outputs": [
        {
          "output_type": "stream",
          "name": "stdout",
          "text": [
            "A     1.000000\n",
            "B    20.518285\n",
            "dtype: float64\n"
          ]
        }
      ]
    },
    {
      "cell_type": "code",
      "source": [
        "print(df.min())"
      ],
      "metadata": {
        "colab": {
          "base_uri": "https://localhost:8080/"
        },
        "id": "hFUIH9nmPtJf",
        "outputId": "a01c13ec-07c6-4b88-a824-d2b47553711c"
      },
      "execution_count": null,
      "outputs": [
        {
          "output_type": "stream",
          "name": "stdout",
          "text": [
            "A    13\n",
            "B    48\n",
            "dtype: int64\n"
          ]
        }
      ]
    },
    {
      "cell_type": "code",
      "source": [
        "print(df.max())"
      ],
      "metadata": {
        "colab": {
          "base_uri": "https://localhost:8080/"
        },
        "id": "By-no5yTP2le",
        "outputId": "2479d174-1250-4bb4-d7dc-52654a558d31"
      },
      "execution_count": null,
      "outputs": [
        {
          "output_type": "stream",
          "name": "stdout",
          "text": [
            "A    15\n",
            "B    89\n",
            "dtype: int64\n"
          ]
        }
      ]
    },
    {
      "cell_type": "code",
      "source": [
        "fg={'nm':[10,-20,30,-40]}\n",
        "kl=pd.DataFrame(fg)\n",
        "print(kl)\n",
        "print(kl.abs())"
      ],
      "metadata": {
        "colab": {
          "base_uri": "https://localhost:8080/"
        },
        "id": "YmUIVWgigELA",
        "outputId": "a190188b-0a6d-48b2-eef7-17103ebd0056"
      },
      "execution_count": null,
      "outputs": [
        {
          "output_type": "stream",
          "name": "stdout",
          "text": [
            "   nm\n",
            "0  10\n",
            "1 -20\n",
            "2  30\n",
            "3 -40\n",
            "   nm\n",
            "0  10\n",
            "1  20\n",
            "2  30\n",
            "3  40\n"
          ]
        }
      ]
    },
    {
      "cell_type": "code",
      "source": [
        "print(df.prod())"
      ],
      "metadata": {
        "colab": {
          "base_uri": "https://localhost:8080/"
        },
        "id": "aKtdse_WP8FN",
        "outputId": "4c6b7673-e766-41d7-d0c5-a2a98cb715e1"
      },
      "execution_count": null,
      "outputs": [
        {
          "output_type": "stream",
          "name": "stdout",
          "text": [
            "A      2730\n",
            "B    286224\n",
            "dtype: int64\n"
          ]
        }
      ]
    },
    {
      "cell_type": "code",
      "source": [
        "print(df.cumsum())"
      ],
      "metadata": {
        "colab": {
          "base_uri": "https://localhost:8080/"
        },
        "id": "ARGHJ7UnQBSG",
        "outputId": "2f4f4513-359e-4d21-a763-cf18493bb1d7"
      },
      "execution_count": null,
      "outputs": [
        {
          "output_type": "stream",
          "name": "stdout",
          "text": [
            "    A    B\n",
            "0  15   67\n",
            "1  28  156\n",
            "2  42  204\n"
          ]
        }
      ]
    },
    {
      "cell_type": "code",
      "source": [
        "print(df.cumprod())"
      ],
      "metadata": {
        "colab": {
          "base_uri": "https://localhost:8080/"
        },
        "id": "SaxuSTYhQKAT",
        "outputId": "ba5036e8-4b71-4962-ac38-0d06c0a9258e"
      },
      "execution_count": null,
      "outputs": [
        {
          "output_type": "stream",
          "name": "stdout",
          "text": [
            "      A       B\n",
            "0    15      67\n",
            "1   195    5963\n",
            "2  2730  286224\n"
          ]
        }
      ]
    },
    {
      "cell_type": "code",
      "source": [
        "print(df.describe())"
      ],
      "metadata": {
        "colab": {
          "base_uri": "https://localhost:8080/"
        },
        "id": "yIJ3sn2DQOXR",
        "outputId": "07be88d7-6811-4097-ac14-9a1e5b5c7d87"
      },
      "execution_count": null,
      "outputs": [
        {
          "output_type": "stream",
          "name": "stdout",
          "text": [
            "          A          B\n",
            "count   3.0   3.000000\n",
            "mean   14.0  68.000000\n",
            "std     1.0  20.518285\n",
            "min    13.0  48.000000\n",
            "25%    13.5  57.500000\n",
            "50%    14.0  67.000000\n",
            "75%    14.5  78.000000\n",
            "max    15.0  89.000000\n"
          ]
        }
      ]
    }
  ]
}